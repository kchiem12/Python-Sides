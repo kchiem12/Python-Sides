{
 "cells": [
  {
   "cell_type": "markdown",
   "metadata": {
    "collapsed": false
   },
   "source": [
    "\n",
    "**This is what you'll need to submit on Canvas:**\n",
    "\n",
    "1. This notebook, completed.\n",
    "2. Your cleaned data in csv form (as noted in the Data Cleaning section below).\n",
    "3. Whatever code you have written for your project. If you have multiple notebooks going, submit them all. "
   ]
  },
  {
   "cell_type": "markdown",
   "metadata": {
    "collapsed": false
   },
   "source": [
    "*Please make all plots inline. They need to appear in this notebook*"
   ]
  },
  {
   "cell_type": "markdown",
   "metadata": {
    "collapsed": false
   },
   "source": [
    "## Data cleaning"
   ]
  },
  {
   "cell_type": "markdown",
   "metadata": {
    "collapsed": false
   },
   "source": [
    "The first step to data analysis is ensuring that you are focussing on the subset of the data that you have complete information about.\n",
    "\n",
    "Having taken a look at your dataset, what columns and rows have you decided to drop from it? Why?\n",
    "\n",
    "*A valid reason for dropping a column could be lack of information about the column, lack of a clear understanding of the units of measurement, a general feeling that it does not contain any useful information etc*\n",
    "\n",
    "If you decided to focus on just a subset of your data please describe why you chose that subset and why you feel the other rows do not matter."
   ]
  },
  {
   "cell_type": "markdown",
   "metadata": {
    "collapsed": false
   },
   "source": [
   ]
  },
  {
   "cell_type": "markdown",
   "metadata": {
    "collapsed": false
   },
   "source": [
    "To clean our data, we dropped the column Time.Label because there were already columns for the month and year for each data entry. Thus, the Time.Label column was irrelevant information since it was already stated. Our data didn't include any blanks in any columns or rows, so we didn't need to clean the data any further since the data is very thorough and concise. "
   ]
  },
  {
   "cell_type": "markdown",
   "metadata": {
    "collapsed": false
   },
   "source": [
    "Save your cleaned data into a csv (Use the _`dataframe`_`.to_csv(\"filename.csv\")` method). **Submit the cleaned csv on Canvas**.\n",
    "\n",
    "Please name your file **data_your name_partner's name_cleaned.csv**. To be clear, if it was Ada and Antonio's project, they would submit `data_ada_antonio_cleaned.csv`"
   ]
  },
  {
   "cell_type": "markdown",
   "metadata": {
    "collapsed": false
   },
   "source": [
    "## Visualizations "
   ]
  },
  {
   "cell_type": "markdown",
   "metadata": {
    "collapsed": false
   },
   "source": [
    "Make at least 5 visualizations that reveal something interesting about the data."
   ]
  },
  {
   "cell_type": "markdown",
   "metadata": {
    "collapsed": false
   },
   "source": [
    "Make sure that your visualizations\n",
    "1. Have things like the axes, titles, units etc\n",
    "2. Are telling a slightly interesting story. Interesting = something a person who has not seen this data might not be able to just guess."
   ]
  },
  {
   "cell_type": "markdown",
   "metadata": {
    "collapsed": false
   },
   "source": [
    "Write a few lines telling us what your visualization represents and what it reveals."
   ]
  },
  {
   "cell_type": "markdown",
   "metadata": {
    "collapsed": false
   },
   "source": [
    "The first visual is a pie chart that represents the percentages of the different types of delays in relation to the total amount of delays. This reveals the main sources of delays and inefficiencies in airports that causes passengers and flights to be late (which from the data is inefficiencies in the national aviation system).\n",
    "The second visual is a bar graph that illustrates the average time (in minutes) per month of weather delays in US states. This graph reveals the best and worst state weather conditions for airplane transportation. \n",
    "The third visual is a bar graph that portrays the average number of flight delays, cancellations, and diversions of major national airports in the US. Ultimately, this graph reveals the most inefficient and efficient airports.\n",
    "The fourth visual is a word cloud and bar graph that illustrates the number of airports each airline carrier serves. This visual reveals the most popular and accessible carriers for passengers in major airports in the U.S.\n",
    "The fifth visual is a bar graph that analyzes the total amount of flights nationwide each month. This graph highlights the busiest and slowest months for airports. It also advises passengers when to buy their tickets, since airports will charge more for busier travel months rather than slower ones. "
   ]
  }
 ],
 "metadata": {
  "kernelspec": {
   "display_name": "Python 3 (system-wide)",
   "language": "python",
   "metadata": {
    "cocalc": {
     "description": "Python 3 programming language",
     "priority": 100,
     "url": "https://www.python.org/"
    }
   },
   "name": "python3"
  },
  "language_info": {
   "codemirror_mode": {
    "name": "ipython",
    "version": 3
   },
   "file_extension": ".py",
   "mimetype": "text/x-python",
   "name": "python",
   "nbconvert_exporter": "python",
   "pygments_lexer": "ipython3",
   "version": "3.6.9"
  }
 },
 "nbformat": 4,
 "nbformat_minor": 4
}